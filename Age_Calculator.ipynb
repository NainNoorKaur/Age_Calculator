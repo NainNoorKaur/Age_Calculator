{
 "cells": [
  {
   "cell_type": "code",
   "execution_count": 43,
   "id": "b9daf653",
   "metadata": {},
   "outputs": [],
   "source": [
    "from tkinter import *\n",
    "import datetime\n",
    "\n",
    "root = Tk()\n",
    "root.geometry(\"500x500\")\n",
    "\n",
    "frame = LabelFrame(root, text=\"AGE CALCULATOR\", font=28, bd=14)\n",
    "frame.pack(fill=\"both\", expand='yes')\n",
    "        \n",
    "def calculateAge():\n",
    "    name = ename.get()\n",
    "    day = eday.get()\n",
    "    month = emonth.get()\n",
    "    year = eyear.get()\n",
    "    \n",
    "    today = datetime.date.today()\n",
    "    currentyear = today.year\n",
    "    age = currentyear - int(year)\n",
    "    \n",
    "    message = 'Hey {} you are {} years old.'.format(name, age)\n",
    "    \n",
    "    textarea = Text(frame,height=10, width=30)\n",
    "    textarea.grid(row=6, column=2)\n",
    "    textarea.insert(END,message)\n",
    "    textarea.see(END)\n",
    "\n",
    "name = Label(frame, text='Name', font=18)\n",
    "name.grid(row=1, column=1)\n",
    "\n",
    "day = Label(frame, text='Day', font=18)\n",
    "day.grid(row=2, column=1)\n",
    "\n",
    "month = Label(frame, text='Month', font=18)\n",
    "month.grid(row=3, column=1)\n",
    "\n",
    "year = Label(frame, text='Year', font=18)\n",
    "year.grid(row=4, column=1)\n",
    "\n",
    "ename = Entry(frame, bd=4)\n",
    "ename.grid(row=1, column=2, padx=50, pady=5)\n",
    "\n",
    "eday = Entry(frame, bd=4)\n",
    "eday.grid(row=2, column=2, padx=50, pady=5)\n",
    "\n",
    "emonth = Entry(frame, bd=4)\n",
    "emonth.grid(row=3, column=2, padx=50, pady=5)\n",
    "\n",
    "eyear = Entry(frame, bd=4)\n",
    "eyear.grid(row=4, column=2, padx=50, pady=5)\n",
    "\n",
    "button = Button(frame, text='CALCULATE AGE', font=18, command = calculateAge)\n",
    "button.grid(row=5, column=2, pady=20)\n",
    "\n",
    "root.mainloop()"
   ]
  },
  {
   "cell_type": "code",
   "execution_count": null,
   "id": "290c5ad7",
   "metadata": {},
   "outputs": [],
   "source": []
  }
 ],
 "metadata": {
  "kernelspec": {
   "display_name": "Python 3",
   "language": "python",
   "name": "python3"
  },
  "language_info": {
   "codemirror_mode": {
    "name": "ipython",
    "version": 3
   },
   "file_extension": ".py",
   "mimetype": "text/x-python",
   "name": "python",
   "nbconvert_exporter": "python",
   "pygments_lexer": "ipython3",
   "version": "3.8.8"
  }
 },
 "nbformat": 4,
 "nbformat_minor": 5
}
